{
  "nbformat": 4,
  "nbformat_minor": 0,
  "metadata": {
    "colab": {
      "name": "dslr.ipynb",
      "provenance": [],
      "authorship_tag": "ABX9TyOEAm0BL522uIFbhvudcQ7c",
      "include_colab_link": true
    },
    "kernelspec": {
      "name": "python3",
      "display_name": "Python 3"
    }
  },
  "cells": [
    {
      "cell_type": "markdown",
      "metadata": {
        "id": "view-in-github",
        "colab_type": "text"
      },
      "source": [
        "<a href=\"https://colab.research.google.com/github/GrigorySamokhin/42Ecole.dslr/blob/master/dslr.ipynb\" target=\"_parent\"><img src=\"https://colab.research.google.com/assets/colab-badge.svg\" alt=\"Open In Colab\"/></a>"
      ]
    },
    {
      "cell_type": "code",
      "metadata": {
        "id": "-3JktBYTeYV7",
        "colab_type": "code",
        "colab": {
          "base_uri": "https://localhost:8080/",
          "height": 34
        },
        "outputId": "0257a9c6-0bf1-4bae-9874-ebf99e7b0073"
      },
      "source": [
        "import numpy as np\n",
        "import pandas as pd\n",
        "import csv\n",
        "\n",
        "!git clone https://github.com/GrigorySamokhin/42Ecole.dslr"
      ],
      "execution_count": 55,
      "outputs": [
        {
          "output_type": "stream",
          "text": [
            "fatal: destination path '42Ecole.dslr' already exists and is not an empty directory.\n"
          ],
          "name": "stdout"
        }
      ]
    },
    {
      "cell_type": "code",
      "metadata": {
        "id": "Iz_hGJR2e2P4",
        "colab_type": "code",
        "colab": {}
      },
      "source": [
        "train = pd.read_csv('/content/42Ecole.dslr/data/dataset_train.csv')\n",
        "test = pd.read_csv('/content/42Ecole.dslr/data/dataset_test.csv')"
      ],
      "execution_count": 0,
      "outputs": []
    },
    {
      "cell_type": "code",
      "metadata": {
        "id": "3yfnhlvjfGhw",
        "colab_type": "code",
        "colab": {
          "base_uri": "https://localhost:8080/",
          "height": 34
        },
        "outputId": "afe467c7-d393-49a8-b8bf-fed64630b642"
      },
      "source": [
        ""
      ],
      "execution_count": 3,
      "outputs": [
        {
          "output_type": "execute_result",
          "data": {
            "text/plain": [
              "(1600, 19)"
            ]
          },
          "metadata": {
            "tags": []
          },
          "execution_count": 3
        }
      ]
    },
    {
      "cell_type": "code",
      "metadata": {
        "id": "8YHmr3zifHze",
        "colab_type": "code",
        "colab": {
          "base_uri": "https://localhost:8080/",
          "height": 357
        },
        "outputId": "0ee916d0-4221-4a77-a586-cba7cf0d6e55"
      },
      "source": [
        "train.isnull().sum()"
      ],
      "execution_count": 7,
      "outputs": [
        {
          "output_type": "execute_result",
          "data": {
            "text/plain": [
              "Index                             0\n",
              "Hogwarts House                    0\n",
              "First Name                        0\n",
              "Last Name                         0\n",
              "Birthday                          0\n",
              "Best Hand                         0\n",
              "Arithmancy                       34\n",
              "Astronomy                        32\n",
              "Herbology                        33\n",
              "Defense Against the Dark Arts    31\n",
              "Divination                       39\n",
              "Muggle Studies                   35\n",
              "Ancient Runes                    35\n",
              "History of Magic                 43\n",
              "Transfiguration                  34\n",
              "Potions                          30\n",
              "Care of Magical Creatures        40\n",
              "Charms                            0\n",
              "Flying                            0\n",
              "dtype: int64"
            ]
          },
          "metadata": {
            "tags": []
          },
          "execution_count": 7
        }
      ]
    },
    {
      "cell_type": "code",
      "metadata": {
        "id": "4uhOvlL9fJFo",
        "colab_type": "code",
        "colab": {
          "base_uri": "https://localhost:8080/",
          "height": 368
        },
        "outputId": "2d526b41-951b-4440-de35-861522655142"
      },
      "source": [
        "list_numeric = "
      ],
      "execution_count": 9,
      "outputs": [
        {
          "output_type": "execute_result",
          "data": {
            "text/html": [
              "<div>\n",
              "<style scoped>\n",
              "    .dataframe tbody tr th:only-of-type {\n",
              "        vertical-align: middle;\n",
              "    }\n",
              "\n",
              "    .dataframe tbody tr th {\n",
              "        vertical-align: top;\n",
              "    }\n",
              "\n",
              "    .dataframe thead th {\n",
              "        text-align: right;\n",
              "    }\n",
              "</style>\n",
              "<table border=\"1\" class=\"dataframe\">\n",
              "  <thead>\n",
              "    <tr style=\"text-align: right;\">\n",
              "      <th></th>\n",
              "      <th>Index</th>\n",
              "      <th>Arithmancy</th>\n",
              "      <th>Astronomy</th>\n",
              "      <th>Herbology</th>\n",
              "      <th>Defense Against the Dark Arts</th>\n",
              "      <th>Divination</th>\n",
              "      <th>Muggle Studies</th>\n",
              "      <th>Ancient Runes</th>\n",
              "      <th>History of Magic</th>\n",
              "      <th>Transfiguration</th>\n",
              "      <th>Potions</th>\n",
              "      <th>Care of Magical Creatures</th>\n",
              "      <th>Charms</th>\n",
              "      <th>Flying</th>\n",
              "    </tr>\n",
              "  </thead>\n",
              "  <tbody>\n",
              "    <tr>\n",
              "      <th>count</th>\n",
              "      <td>1600.00000</td>\n",
              "      <td>1566.000000</td>\n",
              "      <td>1568.000000</td>\n",
              "      <td>1567.000000</td>\n",
              "      <td>1569.000000</td>\n",
              "      <td>1561.000000</td>\n",
              "      <td>1565.000000</td>\n",
              "      <td>1565.000000</td>\n",
              "      <td>1557.000000</td>\n",
              "      <td>1566.000000</td>\n",
              "      <td>1570.000000</td>\n",
              "      <td>1560.000000</td>\n",
              "      <td>1600.000000</td>\n",
              "      <td>1600.000000</td>\n",
              "    </tr>\n",
              "    <tr>\n",
              "      <th>mean</th>\n",
              "      <td>799.50000</td>\n",
              "      <td>49634.570243</td>\n",
              "      <td>39.797131</td>\n",
              "      <td>1.141020</td>\n",
              "      <td>-0.387863</td>\n",
              "      <td>3.153910</td>\n",
              "      <td>-224.589915</td>\n",
              "      <td>495.747970</td>\n",
              "      <td>2.963095</td>\n",
              "      <td>1030.096946</td>\n",
              "      <td>5.950373</td>\n",
              "      <td>-0.053427</td>\n",
              "      <td>-243.374409</td>\n",
              "      <td>21.958012</td>\n",
              "    </tr>\n",
              "    <tr>\n",
              "      <th>std</th>\n",
              "      <td>462.02453</td>\n",
              "      <td>16679.806036</td>\n",
              "      <td>520.298268</td>\n",
              "      <td>5.219682</td>\n",
              "      <td>5.212794</td>\n",
              "      <td>4.155301</td>\n",
              "      <td>486.344840</td>\n",
              "      <td>106.285165</td>\n",
              "      <td>4.425775</td>\n",
              "      <td>44.125116</td>\n",
              "      <td>3.147854</td>\n",
              "      <td>0.971457</td>\n",
              "      <td>8.783640</td>\n",
              "      <td>97.631602</td>\n",
              "    </tr>\n",
              "    <tr>\n",
              "      <th>min</th>\n",
              "      <td>0.00000</td>\n",
              "      <td>-24370.000000</td>\n",
              "      <td>-966.740546</td>\n",
              "      <td>-10.295663</td>\n",
              "      <td>-10.162119</td>\n",
              "      <td>-8.727000</td>\n",
              "      <td>-1086.496835</td>\n",
              "      <td>283.869609</td>\n",
              "      <td>-8.858993</td>\n",
              "      <td>906.627320</td>\n",
              "      <td>-4.697484</td>\n",
              "      <td>-3.313676</td>\n",
              "      <td>-261.048920</td>\n",
              "      <td>-181.470000</td>\n",
              "    </tr>\n",
              "    <tr>\n",
              "      <th>25%</th>\n",
              "      <td>399.75000</td>\n",
              "      <td>38511.500000</td>\n",
              "      <td>-489.551387</td>\n",
              "      <td>-4.308182</td>\n",
              "      <td>-5.259095</td>\n",
              "      <td>3.099000</td>\n",
              "      <td>-577.580096</td>\n",
              "      <td>397.511047</td>\n",
              "      <td>2.218653</td>\n",
              "      <td>1026.209993</td>\n",
              "      <td>3.646785</td>\n",
              "      <td>-0.671606</td>\n",
              "      <td>-250.652600</td>\n",
              "      <td>-41.870000</td>\n",
              "    </tr>\n",
              "    <tr>\n",
              "      <th>50%</th>\n",
              "      <td>799.50000</td>\n",
              "      <td>49013.500000</td>\n",
              "      <td>260.289446</td>\n",
              "      <td>3.469012</td>\n",
              "      <td>-2.589342</td>\n",
              "      <td>4.624000</td>\n",
              "      <td>-419.164294</td>\n",
              "      <td>463.918305</td>\n",
              "      <td>4.378176</td>\n",
              "      <td>1045.506996</td>\n",
              "      <td>5.874837</td>\n",
              "      <td>-0.044811</td>\n",
              "      <td>-244.867765</td>\n",
              "      <td>-2.515000</td>\n",
              "    </tr>\n",
              "    <tr>\n",
              "      <th>75%</th>\n",
              "      <td>1199.25000</td>\n",
              "      <td>60811.250000</td>\n",
              "      <td>524.771949</td>\n",
              "      <td>5.419183</td>\n",
              "      <td>4.904680</td>\n",
              "      <td>5.667000</td>\n",
              "      <td>254.994857</td>\n",
              "      <td>597.492230</td>\n",
              "      <td>5.825242</td>\n",
              "      <td>1058.436410</td>\n",
              "      <td>8.248173</td>\n",
              "      <td>0.589919</td>\n",
              "      <td>-232.552305</td>\n",
              "      <td>50.560000</td>\n",
              "    </tr>\n",
              "    <tr>\n",
              "      <th>max</th>\n",
              "      <td>1599.00000</td>\n",
              "      <td>104956.000000</td>\n",
              "      <td>1016.211940</td>\n",
              "      <td>11.612895</td>\n",
              "      <td>9.667405</td>\n",
              "      <td>10.032000</td>\n",
              "      <td>1092.388611</td>\n",
              "      <td>745.396220</td>\n",
              "      <td>11.889713</td>\n",
              "      <td>1098.958201</td>\n",
              "      <td>13.536762</td>\n",
              "      <td>3.056546</td>\n",
              "      <td>-225.428140</td>\n",
              "      <td>279.070000</td>\n",
              "    </tr>\n",
              "  </tbody>\n",
              "</table>\n",
              "</div>"
            ],
            "text/plain": [
              "            Index     Arithmancy  ...       Charms       Flying\n",
              "count  1600.00000    1566.000000  ...  1600.000000  1600.000000\n",
              "mean    799.50000   49634.570243  ...  -243.374409    21.958012\n",
              "std     462.02453   16679.806036  ...     8.783640    97.631602\n",
              "min       0.00000  -24370.000000  ...  -261.048920  -181.470000\n",
              "25%     399.75000   38511.500000  ...  -250.652600   -41.870000\n",
              "50%     799.50000   49013.500000  ...  -244.867765    -2.515000\n",
              "75%    1199.25000   60811.250000  ...  -232.552305    50.560000\n",
              "max    1599.00000  104956.000000  ...  -225.428140   279.070000\n",
              "\n",
              "[8 rows x 14 columns]"
            ]
          },
          "metadata": {
            "tags": []
          },
          "execution_count": 9
        }
      ]
    },
    {
      "cell_type": "code",
      "metadata": {
        "id": "EbARB_8rfu_i",
        "colab_type": "code",
        "colab": {}
      },
      "source": [
        "data_set = []\n",
        "\n",
        "with open('/content/42Ecole.dslr/data/dataset_train.csv', 'r') as csvfile:\n",
        "    csv_reader = csv.reader(csvfile, delimiter=',')\n",
        "    for row in csv_reader:\n",
        "        data_set += [row]"
      ],
      "execution_count": 0,
      "outputs": []
    },
    {
      "cell_type": "code",
      "metadata": {
        "id": "vH0CmuLcidrG",
        "colab_type": "code",
        "colab": {
          "base_uri": "https://localhost:8080/",
          "height": 340
        },
        "outputId": "04a38aea-5a46-4dd8-9af7-acc029e3d6fa"
      },
      "source": [
        "data_set[0]"
      ],
      "execution_count": 106,
      "outputs": [
        {
          "output_type": "execute_result",
          "data": {
            "text/plain": [
              "['Index',\n",
              " 'Hogwarts House',\n",
              " 'First Name',\n",
              " 'Last Name',\n",
              " 'Birthday',\n",
              " 'Best Hand',\n",
              " 'Arithmancy',\n",
              " 'Astronomy',\n",
              " 'Herbology',\n",
              " 'Defense Against the Dark Arts',\n",
              " 'Divination',\n",
              " 'Muggle Studies',\n",
              " 'Ancient Runes',\n",
              " 'History of Magic',\n",
              " 'Transfiguration',\n",
              " 'Potions',\n",
              " 'Care of Magical Creatures',\n",
              " 'Charms',\n",
              " 'Flying']"
            ]
          },
          "metadata": {
            "tags": []
          },
          "execution_count": 106
        }
      ]
    },
    {
      "cell_type": "code",
      "metadata": {
        "id": "4aghXjLqiwRe",
        "colab_type": "code",
        "colab": {
          "base_uri": "https://localhost:8080/",
          "height": 34
        },
        "outputId": "d9199c6d-404d-445e-a41c-dcf25938855b"
      },
      "source": [
        "n_features = len(data_set[0])\n",
        "numeric_features = []\n",
        "\n",
        "# Get indexes of numeric fetures\n",
        "for i in range(n_features):\n",
        "    try:\n",
        "        # if we can read as float add index of features\n",
        "        fl = float(data_set[1][i])\n",
        "        numeric_features.append(i)\n",
        "    except:\n",
        "        # pass this features if cant\n",
        "        pass\n",
        "# we dont need index column\n",
        "#numeric_features = numeric_features[1:]\n",
        "start_index = numeric_features[1]\n",
        "numeric_features"
      ],
      "execution_count": 133,
      "outputs": [
        {
          "output_type": "execute_result",
          "data": {
            "text/plain": [
              "[0, 6, 7, 8, 9, 10, 11, 12, 13, 14, 15, 16, 17, 18]"
            ]
          },
          "metadata": {
            "tags": []
          },
          "execution_count": 133
        }
      ]
    },
    {
      "cell_type": "code",
      "metadata": {
        "id": "jrl_OC3FoaUv",
        "colab_type": "code",
        "colab": {
          "base_uri": "https://localhost:8080/",
          "height": 85
        },
        "outputId": "7365256b-f810-481b-ce0a-d7ffbdea85be"
      },
      "source": [
        "data_set = np.array(data_set)\n",
        "np.array(data_set[2, numeric_features], dtype=float)"
      ],
      "execution_count": 134,
      "outputs": [
        {
          "output_type": "execute_result",
          "data": {
            "text/plain": [
              "array([ 1.00000000e+00,  6.72390000e+04, -5.52060507e+02, -5.98744578e+00,\n",
              "        5.52060507e+00, -5.61200000e+00, -4.87340557e+02,  3.67760303e+02,\n",
              "        4.10717029e+00,  1.05894459e+03,  7.24874198e+00,  9.16741839e-02,\n",
              "       -2.52184250e+02, -1.13450000e+02])"
            ]
          },
          "metadata": {
            "tags": []
          },
          "execution_count": 134
        }
      ]
    },
    {
      "cell_type": "code",
      "metadata": {
        "id": "jYix11J-kCAg",
        "colab_type": "code",
        "colab": {}
      },
      "source": [
        ""
      ],
      "execution_count": 0,
      "outputs": []
    },
    {
      "cell_type": "code",
      "metadata": {
        "id": "1cMltJ1VkWOB",
        "colab_type": "code",
        "colab": {}
      },
      "source": [
        "# get numeric dataset\n",
        "\n",
        "dataset_num = []\n",
        "index = 0\n",
        "dataset_len = len(data_set)\n",
        "\n",
        "for i in range(1, dataset_len):\n",
        "    dataset_num.append(np.array(data_set[1, numeric_features], dtype=float))\n"
      ],
      "execution_count": 0,
      "outputs": []
    },
    {
      "cell_type": "code",
      "metadata": {
        "id": "hU7ExslRkcJp",
        "colab_type": "code",
        "colab": {
          "base_uri": "https://localhost:8080/",
          "height": 34
        },
        "outputId": "092fb8ea-6258-4cc1-9f26-e06551da75e2"
      },
      "source": [
        "len(dataset_num[0])"
      ],
      "execution_count": 136,
      "outputs": [
        {
          "output_type": "execute_result",
          "data": {
            "text/plain": [
              "14"
            ]
          },
          "metadata": {
            "tags": []
          },
          "execution_count": 136
        }
      ]
    },
    {
      "cell_type": "code",
      "metadata": {
        "id": "8soRVzNrmTNR",
        "colab_type": "code",
        "colab": {
          "base_uri": "https://localhost:8080/",
          "height": 368
        },
        "outputId": "2c9817aa-b477-4752-a85c-c9730e688201"
      },
      "source": [
        "train.describe()"
      ],
      "execution_count": 137,
      "outputs": [
        {
          "output_type": "execute_result",
          "data": {
            "text/html": [
              "<div>\n",
              "<style scoped>\n",
              "    .dataframe tbody tr th:only-of-type {\n",
              "        vertical-align: middle;\n",
              "    }\n",
              "\n",
              "    .dataframe tbody tr th {\n",
              "        vertical-align: top;\n",
              "    }\n",
              "\n",
              "    .dataframe thead th {\n",
              "        text-align: right;\n",
              "    }\n",
              "</style>\n",
              "<table border=\"1\" class=\"dataframe\">\n",
              "  <thead>\n",
              "    <tr style=\"text-align: right;\">\n",
              "      <th></th>\n",
              "      <th>Index</th>\n",
              "      <th>Arithmancy</th>\n",
              "      <th>Astronomy</th>\n",
              "      <th>Herbology</th>\n",
              "      <th>Defense Against the Dark Arts</th>\n",
              "      <th>Divination</th>\n",
              "      <th>Muggle Studies</th>\n",
              "      <th>Ancient Runes</th>\n",
              "      <th>History of Magic</th>\n",
              "      <th>Transfiguration</th>\n",
              "      <th>Potions</th>\n",
              "      <th>Care of Magical Creatures</th>\n",
              "      <th>Charms</th>\n",
              "      <th>Flying</th>\n",
              "    </tr>\n",
              "  </thead>\n",
              "  <tbody>\n",
              "    <tr>\n",
              "      <th>count</th>\n",
              "      <td>1600.00000</td>\n",
              "      <td>1566.000000</td>\n",
              "      <td>1568.000000</td>\n",
              "      <td>1567.000000</td>\n",
              "      <td>1569.000000</td>\n",
              "      <td>1561.000000</td>\n",
              "      <td>1565.000000</td>\n",
              "      <td>1565.000000</td>\n",
              "      <td>1557.000000</td>\n",
              "      <td>1566.000000</td>\n",
              "      <td>1570.000000</td>\n",
              "      <td>1560.000000</td>\n",
              "      <td>1600.000000</td>\n",
              "      <td>1600.000000</td>\n",
              "    </tr>\n",
              "    <tr>\n",
              "      <th>mean</th>\n",
              "      <td>799.50000</td>\n",
              "      <td>49634.570243</td>\n",
              "      <td>39.797131</td>\n",
              "      <td>1.141020</td>\n",
              "      <td>-0.387863</td>\n",
              "      <td>3.153910</td>\n",
              "      <td>-224.589915</td>\n",
              "      <td>495.747970</td>\n",
              "      <td>2.963095</td>\n",
              "      <td>1030.096946</td>\n",
              "      <td>5.950373</td>\n",
              "      <td>-0.053427</td>\n",
              "      <td>-243.374409</td>\n",
              "      <td>21.958012</td>\n",
              "    </tr>\n",
              "    <tr>\n",
              "      <th>std</th>\n",
              "      <td>462.02453</td>\n",
              "      <td>16679.806036</td>\n",
              "      <td>520.298268</td>\n",
              "      <td>5.219682</td>\n",
              "      <td>5.212794</td>\n",
              "      <td>4.155301</td>\n",
              "      <td>486.344840</td>\n",
              "      <td>106.285165</td>\n",
              "      <td>4.425775</td>\n",
              "      <td>44.125116</td>\n",
              "      <td>3.147854</td>\n",
              "      <td>0.971457</td>\n",
              "      <td>8.783640</td>\n",
              "      <td>97.631602</td>\n",
              "    </tr>\n",
              "    <tr>\n",
              "      <th>min</th>\n",
              "      <td>0.00000</td>\n",
              "      <td>-24370.000000</td>\n",
              "      <td>-966.740546</td>\n",
              "      <td>-10.295663</td>\n",
              "      <td>-10.162119</td>\n",
              "      <td>-8.727000</td>\n",
              "      <td>-1086.496835</td>\n",
              "      <td>283.869609</td>\n",
              "      <td>-8.858993</td>\n",
              "      <td>906.627320</td>\n",
              "      <td>-4.697484</td>\n",
              "      <td>-3.313676</td>\n",
              "      <td>-261.048920</td>\n",
              "      <td>-181.470000</td>\n",
              "    </tr>\n",
              "    <tr>\n",
              "      <th>25%</th>\n",
              "      <td>399.75000</td>\n",
              "      <td>38511.500000</td>\n",
              "      <td>-489.551387</td>\n",
              "      <td>-4.308182</td>\n",
              "      <td>-5.259095</td>\n",
              "      <td>3.099000</td>\n",
              "      <td>-577.580096</td>\n",
              "      <td>397.511047</td>\n",
              "      <td>2.218653</td>\n",
              "      <td>1026.209993</td>\n",
              "      <td>3.646785</td>\n",
              "      <td>-0.671606</td>\n",
              "      <td>-250.652600</td>\n",
              "      <td>-41.870000</td>\n",
              "    </tr>\n",
              "    <tr>\n",
              "      <th>50%</th>\n",
              "      <td>799.50000</td>\n",
              "      <td>49013.500000</td>\n",
              "      <td>260.289446</td>\n",
              "      <td>3.469012</td>\n",
              "      <td>-2.589342</td>\n",
              "      <td>4.624000</td>\n",
              "      <td>-419.164294</td>\n",
              "      <td>463.918305</td>\n",
              "      <td>4.378176</td>\n",
              "      <td>1045.506996</td>\n",
              "      <td>5.874837</td>\n",
              "      <td>-0.044811</td>\n",
              "      <td>-244.867765</td>\n",
              "      <td>-2.515000</td>\n",
              "    </tr>\n",
              "    <tr>\n",
              "      <th>75%</th>\n",
              "      <td>1199.25000</td>\n",
              "      <td>60811.250000</td>\n",
              "      <td>524.771949</td>\n",
              "      <td>5.419183</td>\n",
              "      <td>4.904680</td>\n",
              "      <td>5.667000</td>\n",
              "      <td>254.994857</td>\n",
              "      <td>597.492230</td>\n",
              "      <td>5.825242</td>\n",
              "      <td>1058.436410</td>\n",
              "      <td>8.248173</td>\n",
              "      <td>0.589919</td>\n",
              "      <td>-232.552305</td>\n",
              "      <td>50.560000</td>\n",
              "    </tr>\n",
              "    <tr>\n",
              "      <th>max</th>\n",
              "      <td>1599.00000</td>\n",
              "      <td>104956.000000</td>\n",
              "      <td>1016.211940</td>\n",
              "      <td>11.612895</td>\n",
              "      <td>9.667405</td>\n",
              "      <td>10.032000</td>\n",
              "      <td>1092.388611</td>\n",
              "      <td>745.396220</td>\n",
              "      <td>11.889713</td>\n",
              "      <td>1098.958201</td>\n",
              "      <td>13.536762</td>\n",
              "      <td>3.056546</td>\n",
              "      <td>-225.428140</td>\n",
              "      <td>279.070000</td>\n",
              "    </tr>\n",
              "  </tbody>\n",
              "</table>\n",
              "</div>"
            ],
            "text/plain": [
              "            Index     Arithmancy  ...       Charms       Flying\n",
              "count  1600.00000    1566.000000  ...  1600.000000  1600.000000\n",
              "mean    799.50000   49634.570243  ...  -243.374409    21.958012\n",
              "std     462.02453   16679.806036  ...     8.783640    97.631602\n",
              "min       0.00000  -24370.000000  ...  -261.048920  -181.470000\n",
              "25%     399.75000   38511.500000  ...  -250.652600   -41.870000\n",
              "50%     799.50000   49013.500000  ...  -244.867765    -2.515000\n",
              "75%    1199.25000   60811.250000  ...  -232.552305    50.560000\n",
              "max    1599.00000  104956.000000  ...  -225.428140   279.070000\n",
              "\n",
              "[8 rows x 14 columns]"
            ]
          },
          "metadata": {
            "tags": []
          },
          "execution_count": 137
        }
      ]
    },
    {
      "cell_type": "code",
      "metadata": {
        "id": "2ap32dvzmczt",
        "colab_type": "code",
        "colab": {}
      },
      "source": [
        ""
      ],
      "execution_count": 0,
      "outputs": []
    }
  ]
}